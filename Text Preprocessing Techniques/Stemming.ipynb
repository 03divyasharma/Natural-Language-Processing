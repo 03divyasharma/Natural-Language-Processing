{
  "nbformat": 4,
  "nbformat_minor": 0,
  "metadata": {
    "colab": {
      "provenance": []
    },
    "kernelspec": {
      "name": "python3",
      "display_name": "Python 3"
    },
    "language_info": {
      "name": "python"
    }
  },
  "cells": [
    {
      "cell_type": "markdown",
      "source": [
        "#Stemming"
      ],
      "metadata": {
        "id": "dlkatJ2bDwD8"
      }
    },
    {
      "cell_type": "markdown",
      "source": [
        "It is the process of reducing words to their  word stem, root or base.\n",
        "\n",
        "Eg: [Writer, Writes, Writing, Written, Write, Wrote]--------> Write\n",
        "\n",
        "Eg:[Creator, Creating, Created, Creative, Creates] --------> Create\n",
        "\n",
        "Eg: [Dreamer, Dreaming, Dreams, Dreamt]---------> Dream\n",
        "\n",
        "The stem need not be a word, for example the Porter algorithm reduces argue, argued, argues, arguing, and argus to the stem argu."
      ],
      "metadata": {
        "id": "hymZvy97hPrb"
      }
    },
    {
      "cell_type": "code",
      "source": [
        "text=[\"writer\", \"writes\", \"writing\", \"written\", \"write\", \"wrote\", \"creator\", \"creating\", \"created\", \"creative\", \"creates\", \"goes\", \"going\",\"gone\",\"dreams\",\"dreamt\",\"dreaming\",\"aspires\",\"aspiration\"]"
      ],
      "metadata": {
        "id": "yGmW4xAXR6Cd"
      },
      "execution_count": 7,
      "outputs": []
    },
    {
      "cell_type": "markdown",
      "source": [
        "## PorterStemmer"
      ],
      "metadata": {
        "id": "V0ctKz3xiEOA"
      }
    },
    {
      "cell_type": "code",
      "execution_count": 3,
      "metadata": {
        "id": "X60GlEkvDvLK"
      },
      "outputs": [],
      "source": [
        "from nltk.stem import PorterStemmer"
      ]
    },
    {
      "cell_type": "code",
      "source": [
        "stemming=PorterStemmer()"
      ],
      "metadata": {
        "id": "FEU_9FqliKwh"
      },
      "execution_count": 4,
      "outputs": []
    },
    {
      "cell_type": "code",
      "source": [
        "for word in text:\n",
        "  print(word + \"------>\"+stemming.stem(word))"
      ],
      "metadata": {
        "colab": {
          "base_uri": "https://localhost:8080/"
        },
        "id": "nqJPiT0HR2fG",
        "outputId": "8bae28b6-234d-4cc7-b813-aa86a3871bee"
      },
      "execution_count": 9,
      "outputs": [
        {
          "output_type": "stream",
          "name": "stdout",
          "text": [
            "writer------>writer\n",
            "writes------>write\n",
            "writing------>write\n",
            "written------>written\n",
            "write------>write\n",
            "wrote------>wrote\n",
            "creator------>creator\n",
            "creating------>creat\n",
            "created------>creat\n",
            "creative------>creativ\n",
            "creates------>creat\n",
            "goes------>goe\n",
            "going------>go\n",
            "gone------>gone\n",
            "dreams------>dream\n",
            "dreamt------>dreamt\n",
            "dreaming------>dream\n",
            "aspires------>aspir\n",
            "aspiration------>aspir\n"
          ]
        }
      ]
    },
    {
      "cell_type": "markdown",
      "source": [
        "Disadvantage of Stemming: Form of some words may completely change.\n",
        "\n",
        " Eg: In above code: creating------>creat\n",
        "\n",
        "  goes------>goe\n",
        "\n",
        "  aspiration------>aspir\n",
        "\n",
        "  It is because stemmers like the Porter Stemmer or Lancaster Stemmer use a set of pre-defined rules rather than an extensive dictionary or context-aware logic to strip suffixes from words."
      ],
      "metadata": {
        "id": "cRdvTvsMTb1J"
      }
    },
    {
      "cell_type": "markdown",
      "source": [
        "##Lancaster Stemmer"
      ],
      "metadata": {
        "id": "8yALajUhVi0A"
      }
    },
    {
      "cell_type": "code",
      "source": [
        "from nltk.stem import LancasterStemmer\n",
        "ls_stemmer = LancasterStemmer()"
      ],
      "metadata": {
        "id": "1vmPrIPgVlzv"
      },
      "execution_count": 10,
      "outputs": []
    },
    {
      "cell_type": "code",
      "source": [
        "for word in text:\n",
        "  print(word+\"-------->\"+ls_stemmer.stem(word))"
      ],
      "metadata": {
        "colab": {
          "base_uri": "https://localhost:8080/"
        },
        "id": "Zr4I1BM0Von3",
        "outputId": "8a36476d-3c1e-442e-ed63-7a7998b1809b"
      },
      "execution_count": 11,
      "outputs": [
        {
          "output_type": "stream",
          "name": "stdout",
          "text": [
            "writer-------->writ\n",
            "writes-------->writ\n",
            "writing-------->writ\n",
            "written-------->writ\n",
            "write-------->writ\n",
            "wrote-------->wrot\n",
            "creator-------->cre\n",
            "creating-------->cre\n",
            "created-------->cre\n",
            "creative-------->cre\n",
            "creates-------->cre\n",
            "goes-------->goe\n",
            "going-------->going\n",
            "gone-------->gon\n",
            "dreams-------->dream\n",
            "dreamt-------->dreamt\n",
            "dreaming-------->dream\n",
            "aspires-------->aspir\n",
            "aspiration-------->aspir\n"
          ]
        }
      ]
    },
    {
      "cell_type": "markdown",
      "source": [
        "Lancaster stemmer reduces the words into even shorter forms making this a more rigorous technique. However, it improves look up speed."
      ],
      "metadata": {
        "id": "EaPhrmcHV26r"
      }
    },
    {
      "cell_type": "markdown",
      "source": [
        "##RegexStemmer class"
      ],
      "metadata": {
        "id": "dq9YORTfUrb8"
      }
    },
    {
      "cell_type": "markdown",
      "source": [
        "A regular expression is a sequence of characters that specifies a match pattern in text."
      ],
      "metadata": {
        "id": "ytvchVMhYWp1"
      }
    },
    {
      "cell_type": "code",
      "source": [
        "from nltk.stem import RegexpStemmer\n",
        "reg_stemmer=RegexpStemmer()"
      ],
      "metadata": {
        "colab": {
          "base_uri": "https://localhost:8080/",
          "height": 158
        },
        "id": "thEEOho_SIJZ",
        "outputId": "eaf6be1c-9830-4bb4-a8e1-2f91ece3fa5d"
      },
      "execution_count": 12,
      "outputs": [
        {
          "output_type": "error",
          "ename": "TypeError",
          "evalue": "RegexpStemmer.__init__() missing 1 required positional argument: 'regexp'",
          "traceback": [
            "\u001b[0;31m---------------------------------------------------------------------------\u001b[0m",
            "\u001b[0;31mTypeError\u001b[0m                                 Traceback (most recent call last)",
            "\u001b[0;32m<ipython-input-12-a26719c89eb2>\u001b[0m in \u001b[0;36m<cell line: 2>\u001b[0;34m()\u001b[0m\n\u001b[1;32m      1\u001b[0m \u001b[0;32mfrom\u001b[0m \u001b[0mnltk\u001b[0m\u001b[0;34m.\u001b[0m\u001b[0mstem\u001b[0m \u001b[0;32mimport\u001b[0m \u001b[0mRegexpStemmer\u001b[0m\u001b[0;34m\u001b[0m\u001b[0;34m\u001b[0m\u001b[0m\n\u001b[0;32m----> 2\u001b[0;31m \u001b[0mreg_stemmer\u001b[0m\u001b[0;34m=\u001b[0m\u001b[0mRegexpStemmer\u001b[0m\u001b[0;34m(\u001b[0m\u001b[0;34m)\u001b[0m\u001b[0;34m\u001b[0m\u001b[0;34m\u001b[0m\u001b[0m\n\u001b[0m",
            "\u001b[0;31mTypeError\u001b[0m: RegexpStemmer.__init__() missing 1 required positional argument: 'regexp'"
          ]
        }
      ]
    },
    {
      "cell_type": "markdown",
      "source": [
        "We get an error because what Regex takes an regular expression argment and if this reg exp is found in the input text, it is removed."
      ],
      "metadata": {
        "id": "yjRG6T00Wqdi"
      }
    },
    {
      "cell_type": "code",
      "source": [
        "from nltk.stem import RegexpStemmer\n",
        "reg_stemmer=RegexpStemmer(\"ing$|s$|ed$|er$|or$\", min=5)"
      ],
      "metadata": {
        "id": "EBqNDXdKWXFJ"
      },
      "execution_count": 19,
      "outputs": []
    },
    {
      "cell_type": "code",
      "source": [
        "for word in text:\n",
        "  print(word+\"----->\"+reg_stemmer.stem(word))"
      ],
      "metadata": {
        "colab": {
          "base_uri": "https://localhost:8080/"
        },
        "id": "vMWhiB2JYEXk",
        "outputId": "936acdd2-99cb-4484-c9f4-e66995e2b0a4"
      },
      "execution_count": 20,
      "outputs": [
        {
          "output_type": "stream",
          "name": "stdout",
          "text": [
            "writer----->writ\n",
            "writes----->write\n",
            "writing----->writ\n",
            "written----->written\n",
            "write----->write\n",
            "wrote----->wrote\n",
            "creator----->creat\n",
            "creating----->creat\n",
            "created----->creat\n",
            "creative----->creative\n",
            "creates----->create\n",
            "goes----->goes\n",
            "going----->go\n",
            "gone----->gone\n",
            "dreams----->dream\n",
            "dreamt----->dreamt\n",
            "dreaming----->dream\n",
            "aspires----->aspire\n",
            "aspiration----->aspiration\n"
          ]
        }
      ]
    },
    {
      "cell_type": "markdown",
      "source": [
        "Dollar in regex specifies that expression will be removed from end only. When dollar isnt written, expression will be removed from wherever it is present."
      ],
      "metadata": {
        "id": "Natw1dlBdtTp"
      }
    },
    {
      "cell_type": "code",
      "source": [
        "reg_stemmer_eg=RegexpStemmer(\"ing|s$|ed$|er$|or$\", min=5)"
      ],
      "metadata": {
        "id": "2ZEww7Q0Z4MR"
      },
      "execution_count": 25,
      "outputs": []
    },
    {
      "cell_type": "code",
      "source": [
        "reg_stemmer_eg.stem(\"inggoing\")"
      ],
      "metadata": {
        "colab": {
          "base_uri": "https://localhost:8080/",
          "height": 36
        },
        "id": "7lFBQwGWd9X2",
        "outputId": "2308ed56-a5ac-4443-887e-540baad81baf"
      },
      "execution_count": 26,
      "outputs": [
        {
          "output_type": "execute_result",
          "data": {
            "text/plain": [
              "'go'"
            ],
            "application/vnd.google.colaboratory.intrinsic+json": {
              "type": "string"
            }
          },
          "metadata": {},
          "execution_count": 26
        }
      ]
    },
    {
      "cell_type": "markdown",
      "source": [
        "##Snowball Stemmer"
      ],
      "metadata": {
        "id": "1-mLsm5Keq0f"
      }
    },
    {
      "cell_type": "markdown",
      "source": [
        "Performs better in terms of accuracy, i.e., better form of word.  It is a stemming algorithm which is also known as the Porter2 stemming algorithm as it is a better version of the Porter Stemmer since some issues of it were fixed in this stemmer."
      ],
      "metadata": {
        "id": "Xjr6oNmliL3H"
      }
    },
    {
      "cell_type": "code",
      "source": [
        "from nltk.stem import SnowballStemmer\n"
      ],
      "metadata": {
        "id": "2U0LW490eDh-"
      },
      "execution_count": 27,
      "outputs": []
    },
    {
      "cell_type": "code",
      "source": [
        "snow_stemmer=SnowballStemmer(language=\"english\")"
      ],
      "metadata": {
        "id": "zuRxRx3De-Nh"
      },
      "execution_count": 28,
      "outputs": []
    },
    {
      "cell_type": "code",
      "source": [
        "for word in text:\n",
        "  print(word+\"---->\"+snow_stemmer.stem(word))"
      ],
      "metadata": {
        "colab": {
          "base_uri": "https://localhost:8080/"
        },
        "id": "qtFTFFs1e9xC",
        "outputId": "5fef02a1-780b-4ad9-d4cc-d166951d872b"
      },
      "execution_count": 29,
      "outputs": [
        {
          "output_type": "stream",
          "name": "stdout",
          "text": [
            "writer---->writer\n",
            "writes---->write\n",
            "writing---->write\n",
            "written---->written\n",
            "write---->write\n",
            "wrote---->wrote\n",
            "creator---->creator\n",
            "creating---->creat\n",
            "created---->creat\n",
            "creative---->creativ\n",
            "creates---->creat\n",
            "goes---->goe\n",
            "going---->go\n",
            "gone---->gone\n",
            "dreams---->dream\n",
            "dreamt---->dreamt\n",
            "dreaming---->dream\n",
            "aspires---->aspir\n",
            "aspiration---->aspir\n"
          ]
        }
      ]
    },
    {
      "cell_type": "code",
      "source": [],
      "metadata": {
        "id": "Eg514oNpfHJR"
      },
      "execution_count": null,
      "outputs": []
    },
    {
      "cell_type": "markdown",
      "source": [],
      "metadata": {
        "id": "aqmYDEVef1zZ"
      }
    }
  ]
}