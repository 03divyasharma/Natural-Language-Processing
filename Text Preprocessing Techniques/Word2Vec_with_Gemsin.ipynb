{
  "nbformat": 4,
  "nbformat_minor": 0,
  "metadata": {
    "colab": {
      "provenance": []
    },
    "kernelspec": {
      "name": "python3",
      "display_name": "Python 3"
    },
    "language_info": {
      "name": "python"
    }
  },
  "cells": [
    {
      "cell_type": "code",
      "execution_count": 1,
      "metadata": {
        "colab": {
          "base_uri": "https://localhost:8080/"
        },
        "id": "kFsvmGIh35Mg",
        "outputId": "12ec30fa-35ec-476d-d248-5be2a17733b0"
      },
      "outputs": [
        {
          "output_type": "stream",
          "name": "stdout",
          "text": [
            "Requirement already satisfied: gensim in /usr/local/lib/python3.11/dist-packages (4.3.3)\n",
            "Requirement already satisfied: numpy<2.0,>=1.18.5 in /usr/local/lib/python3.11/dist-packages (from gensim) (1.26.4)\n",
            "Requirement already satisfied: scipy<1.14.0,>=1.7.0 in /usr/local/lib/python3.11/dist-packages (from gensim) (1.13.1)\n",
            "Requirement already satisfied: smart-open>=1.8.1 in /usr/local/lib/python3.11/dist-packages (from gensim) (7.1.0)\n",
            "Requirement already satisfied: wrapt in /usr/local/lib/python3.11/dist-packages (from smart-open>=1.8.1->gensim) (1.17.2)\n"
          ]
        }
      ],
      "source": [
        "pip install gensim"
      ]
    },
    {
      "cell_type": "code",
      "source": [
        "import gensim"
      ],
      "metadata": {
        "id": "TMC8K-YG5_gq"
      },
      "execution_count": 2,
      "outputs": []
    },
    {
      "cell_type": "code",
      "source": [
        "from gensim.models import Word2Vec, KeyedVectors"
      ],
      "metadata": {
        "id": "llpxOLa86AlY"
      },
      "execution_count": 3,
      "outputs": []
    },
    {
      "cell_type": "markdown",
      "source": [
        "#####Now taking google pretrained model"
      ],
      "metadata": {
        "id": "qIMwiyy16FIq"
      }
    },
    {
      "cell_type": "code",
      "source": [
        "import gensim.downloader as api"
      ],
      "metadata": {
        "id": "TcdpEsbO6ETr"
      },
      "execution_count": 4,
      "outputs": []
    },
    {
      "cell_type": "code",
      "source": [
        "wv=api.load('word2vec-google-news-300')\n"
      ],
      "metadata": {
        "colab": {
          "base_uri": "https://localhost:8080/"
        },
        "id": "cFA0qTJs6Rit",
        "outputId": "044e94bc-0cc9-4ff0-e06e-680e1e29fd01"
      },
      "execution_count": 5,
      "outputs": [
        {
          "output_type": "stream",
          "name": "stdout",
          "text": [
            "[==================================================] 100.0% 1662.8/1662.8MB downloaded\n"
          ]
        }
      ]
    },
    {
      "cell_type": "markdown",
      "source": [
        "This wv vector has many functions."
      ],
      "metadata": {
        "id": "M08JSWRo8iVT"
      }
    },
    {
      "cell_type": "code",
      "source": [
        "vec_super=wv['super']\n",
        "print(\"Vector of word 'super':\",vec_super)\n",
        "print(vec_super.shape)"
      ],
      "metadata": {
        "colab": {
          "base_uri": "https://localhost:8080/"
        },
        "id": "QnSNGwnQ6eEV",
        "outputId": "07494372-f01b-4b82-9987-0e11df552936"
      },
      "execution_count": 8,
      "outputs": [
        {
          "output_type": "stream",
          "name": "stdout",
          "text": [
            "Vector of word 'super': [ 9.61914062e-02  1.47460938e-01  9.13085938e-02  7.81250000e-02\n",
            " -9.96093750e-02 -6.73828125e-02  2.13623047e-02 -3.47656250e-01\n",
            " -1.10839844e-01  2.44140625e-01  5.24902344e-02 -4.95605469e-02\n",
            " -1.83105469e-02 -2.07031250e-01 -1.04492188e-01  2.91015625e-01\n",
            " -6.73828125e-02  2.81250000e-01 -1.17187500e-02  6.29882812e-02\n",
            "  1.63574219e-02 -1.41601562e-01  1.07421875e-01 -8.74023438e-02\n",
            "  2.40234375e-01 -3.68652344e-02 -2.46093750e-01  1.61132812e-01\n",
            "  9.64355469e-03 -1.94335938e-01  8.64257812e-02  1.95312500e-01\n",
            "  3.04687500e-01  1.73828125e-01  1.80664062e-02  7.66601562e-02\n",
            " -7.76367188e-02 -1.50390625e-01  7.81250000e-02  1.50390625e-01\n",
            "  2.32421875e-01 -6.64062500e-02  2.75390625e-01  3.61328125e-01\n",
            "  5.93261719e-02 -2.28515625e-01  2.23632812e-01  6.15234375e-02\n",
            "  1.58203125e-01 -2.45361328e-02  5.63964844e-02  9.66796875e-02\n",
            " -5.44433594e-02  1.43554688e-01 -6.07299805e-03  7.66601562e-02\n",
            " -7.86132812e-02 -1.76757812e-01  6.88476562e-02  6.17675781e-02\n",
            " -1.47460938e-01 -5.73730469e-02 -2.10937500e-01  1.89453125e-01\n",
            " -9.17968750e-02  5.56640625e-02 -2.39257812e-01  2.10937500e-01\n",
            " -4.71191406e-02  1.50390625e-01 -3.71932983e-04 -1.41601562e-02\n",
            "  2.31445312e-01  2.24609375e-01 -1.56250000e-01  5.07812500e-02\n",
            "  4.93164062e-02  1.93359375e-01 -1.88476562e-01 -2.50244141e-02\n",
            "  1.93359375e-01  9.66796875e-02  1.61132812e-02 -1.74804688e-01\n",
            "  9.47265625e-02 -6.49414062e-02 -2.23632812e-01  2.03125000e-01\n",
            "  8.20312500e-02 -1.31835938e-01 -1.51367188e-01 -1.62353516e-02\n",
            " -1.54296875e-01  3.08837891e-02 -1.25000000e-01  1.94091797e-02\n",
            "  4.32128906e-02 -1.87988281e-02  1.19628906e-02 -7.71484375e-02\n",
            "  9.46044922e-03  2.22656250e-01  1.48437500e-01 -6.98242188e-02\n",
            " -2.12402344e-02  1.98242188e-01 -2.00195312e-01 -8.74023438e-02\n",
            "  1.63574219e-02  1.07421875e-01  4.15039062e-02 -1.89453125e-01\n",
            " -2.22656250e-01 -1.14135742e-02  1.94335938e-01 -9.91210938e-02\n",
            " -2.01171875e-01 -3.83300781e-02  2.30712891e-02 -2.09960938e-01\n",
            "  6.78710938e-02 -1.92382812e-01  9.66796875e-02  1.66015625e-01\n",
            "  1.56250000e-01  2.96875000e-01  8.69140625e-02 -3.02734375e-02\n",
            "  1.61132812e-01 -1.67968750e-01  1.35742188e-01 -4.00390625e-02\n",
            "  1.40625000e-01  1.14746094e-02 -1.47460938e-01  9.22851562e-02\n",
            " -3.99780273e-03  8.48388672e-03  9.88769531e-03  8.64257812e-02\n",
            "  7.95898438e-02 -2.46093750e-01 -2.78320312e-02 -5.76171875e-02\n",
            "  1.57226562e-01 -1.31835938e-01 -4.10156250e-02  3.36914062e-02\n",
            "  1.00097656e-01  6.54296875e-02 -1.14257812e-01 -6.07910156e-02\n",
            " -9.66796875e-02  6.73828125e-02 -1.11083984e-02 -9.09423828e-03\n",
            "  5.61523438e-02 -6.77490234e-03 -1.68945312e-01 -4.85229492e-03\n",
            " -6.13403320e-03 -2.31445312e-01  2.10937500e-01 -5.63964844e-02\n",
            " -1.27929688e-01 -1.49414062e-01  2.35595703e-02  8.59375000e-02\n",
            " -8.34960938e-02  1.09863281e-01 -1.75781250e-01 -2.15820312e-01\n",
            "  1.45507812e-01 -7.08007812e-02 -7.08007812e-02 -1.74804688e-01\n",
            "  6.22558594e-02 -1.85546875e-01 -1.51367188e-01  1.77734375e-01\n",
            "  2.50000000e-01 -3.67187500e-01  1.18164062e-01 -2.56347656e-02\n",
            " -4.24804688e-02 -1.08398438e-01 -5.41992188e-02 -5.61523438e-02\n",
            "  1.31835938e-01 -6.68334961e-03 -1.04003906e-01 -2.52685547e-02\n",
            "  1.26953125e-01 -7.91015625e-02  8.25195312e-02  8.83789062e-02\n",
            "  1.33666992e-02 -1.94335938e-01  4.90722656e-02 -1.52587891e-02\n",
            "  4.49218750e-02  6.73828125e-02  7.51953125e-02  4.19921875e-02\n",
            " -7.12890625e-02 -8.93554688e-02 -2.02148438e-01 -1.47460938e-01\n",
            " -1.87500000e-01  2.49023438e-02  2.39257812e-02  5.44433594e-02\n",
            "  2.91015625e-01 -2.80761719e-02 -1.02539062e-01  7.81250000e-02\n",
            "  7.12890625e-02 -6.22558594e-02 -2.96875000e-01 -1.47705078e-02\n",
            " -1.70898438e-02  8.39843750e-02  1.74804688e-01 -6.64062500e-02\n",
            " -4.78515625e-02  2.50000000e-01 -7.76367188e-02 -8.83789062e-02\n",
            " -2.86865234e-02 -8.64257812e-02  7.23266602e-03 -1.50390625e-01\n",
            "  4.71191406e-02 -7.17773438e-02  1.53320312e-01 -3.83300781e-02\n",
            "  7.42187500e-02 -1.72851562e-01  2.01171875e-01 -8.25195312e-02\n",
            "  1.96289062e-01  1.65039062e-01 -4.07714844e-02 -7.56835938e-02\n",
            "  1.52343750e-01 -1.92871094e-02  6.20117188e-02  1.30859375e-01\n",
            " -3.14941406e-02 -3.68652344e-02  9.27734375e-02  2.18505859e-02\n",
            "  3.92578125e-01  1.90429688e-01  1.18164062e-01  1.27563477e-02\n",
            "  6.25000000e-02 -1.06933594e-01 -6.73828125e-02  1.42578125e-01\n",
            "  1.66992188e-01 -1.02050781e-01 -2.81250000e-01  8.69140625e-02\n",
            "  5.76171875e-02  4.05883789e-03  1.00585938e-01 -4.42504883e-03\n",
            " -1.36718750e-01  1.64062500e-01 -1.26953125e-01  1.04980469e-01\n",
            "  7.27539062e-02 -5.12695312e-02  1.95312500e-01 -1.64062500e-01\n",
            "  3.88183594e-02 -1.47460938e-01 -2.03857422e-02  2.10937500e-01\n",
            "  1.00585938e-01  1.73828125e-01 -1.33789062e-01  1.12304688e-01\n",
            " -4.05273438e-02 -1.75781250e-02 -2.42187500e-01 -3.04687500e-01\n",
            "  1.26953125e-01 -7.71484375e-02  1.36718750e-01 -7.66601562e-02\n",
            " -3.14941406e-02  1.32812500e-01 -1.86523438e-01 -2.19726562e-01\n",
            "  2.41699219e-02 -3.51562500e-02  1.26342773e-02 -7.61718750e-02]\n",
            "(300,)\n"
          ]
        }
      ]
    },
    {
      "cell_type": "code",
      "source": [
        "wv.most_similar('passionate') #which word is most similar to it"
      ],
      "metadata": {
        "colab": {
          "base_uri": "https://localhost:8080/"
        },
        "id": "i_owna2y9qBa",
        "outputId": "2ca31173-7c80-4648-da76-2f6e1350e183"
      },
      "execution_count": 12,
      "outputs": [
        {
          "output_type": "execute_result",
          "data": {
            "text/plain": [
              "[('Passionate', 0.6822111010551453),\n",
              " ('passionately', 0.6547940373420715),\n",
              " ('passion', 0.6413701772689819),\n",
              " ('enthusiastic', 0.6311060786247253),\n",
              " ('fervent', 0.5637868046760559),\n",
              " ('impassioned', 0.5339100360870361),\n",
              " ('knowledgeable', 0.5299574732780457),\n",
              " ('ardent', 0.5281468629837036),\n",
              " ('inspiring', 0.5151798725128174),\n",
              " ('love', 0.5040649175643921)]"
            ]
          },
          "metadata": {},
          "execution_count": 12
        }
      ]
    },
    {
      "cell_type": "code",
      "source": [
        "print(wv.similarity(\"super\",\"good\") ) #shows how similar are these words\n"
      ],
      "metadata": {
        "colab": {
          "base_uri": "https://localhost:8080/"
        },
        "id": "GTsiKKKC93gW",
        "outputId": "58d1373d-5f6d-47d1-c182-44fe75f84d10"
      },
      "execution_count": 10,
      "outputs": [
        {
          "output_type": "stream",
          "name": "stdout",
          "text": [
            "0.21152025\n"
          ]
        }
      ]
    },
    {
      "cell_type": "code",
      "source": [
        "vector=wv['waiter']-wv['man']+wv['woman']\n",
        "wv.most_similar([vector])"
      ],
      "metadata": {
        "colab": {
          "base_uri": "https://localhost:8080/"
        },
        "id": "JaFn8kPZ94kT",
        "outputId": "75e0e378-4035-465b-8b9b-e236bd12d408"
      },
      "execution_count": 14,
      "outputs": [
        {
          "output_type": "execute_result",
          "data": {
            "text/plain": [
              "[('waiter', 0.904755175113678),\n",
              " ('waitress', 0.8039640784263611),\n",
              " ('waiters', 0.6530875563621521),\n",
              " ('bartender', 0.6385506987571716),\n",
              " ('maitre_d', 0.6300960183143616),\n",
              " ('maître_d', 0.6294702887535095),\n",
              " ('waitstaff', 0.6199995875358582),\n",
              " (\"maitre'd\", 0.6135398745536804),\n",
              " ('waitperson', 0.6067978739738464),\n",
              " ('counterperson', 0.5935594439506531)]"
            ]
          },
          "metadata": {},
          "execution_count": 14
        }
      ]
    },
    {
      "cell_type": "markdown",
      "source": [
        "The most similar word next to waiter is waitress."
      ],
      "metadata": {
        "id": "3raqvZVk-nY0"
      }
    },
    {
      "cell_type": "code",
      "source": [],
      "metadata": {
        "id": "wNRZyqfZ-ehs"
      },
      "execution_count": null,
      "outputs": []
    }
  ]
}