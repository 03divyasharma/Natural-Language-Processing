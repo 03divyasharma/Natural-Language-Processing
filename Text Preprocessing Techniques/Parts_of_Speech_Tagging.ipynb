{
  "nbformat": 4,
  "nbformat_minor": 0,
  "metadata": {
    "colab": {
      "provenance": []
    },
    "kernelspec": {
      "name": "python3",
      "display_name": "Python 3"
    },
    "language_info": {
      "name": "python"
    }
  },
  "cells": [
    {
      "cell_type": "markdown",
      "source": [
        "#Parts of Speech Tagging"
      ],
      "metadata": {
        "id": "ZfgBMt-ytgIj"
      }
    },
    {
      "cell_type": "markdown",
      "source": [
        "One of the core tasks in Natural Language Processing (NLP) is Parts of Speech (PoS) tagging, which is giving each word in a text a grammatical category, such as nouns, verbs, adjectives, and adverbs. Through improved comprehension of phrase structure and semantics, this technique makes it possible for machines to study and comprehend human language more accurately.\n",
        "\n",
        "Parts of Speech tagging is a linguistic activity in Natural Language Processing (NLP) wherein each word in a document is given a particular part of speech (adverb, adjective, verb, etc.) or grammatical category. Through the addition of a layer of syntactic and semantic information to the words, this procedure makes it easier to comprehend the sentence’s structure and meaning.\n"
      ],
      "metadata": {
        "id": "EXhQlHpkjaRH"
      }
    },
    {
      "cell_type": "code",
      "execution_count": 1,
      "metadata": {
        "id": "FLxkRfQLtWTB",
        "colab": {
          "base_uri": "https://localhost:8080/"
        },
        "outputId": "5a67fdb0-8842-4ca9-dcf9-64f3b2ae2ff1"
      },
      "outputs": [
        {
          "output_type": "stream",
          "name": "stderr",
          "text": [
            "[nltk_data] Downloading package stopwords to /root/nltk_data...\n",
            "[nltk_data]   Package stopwords is already up-to-date!\n"
          ]
        },
        {
          "output_type": "execute_result",
          "data": {
            "text/plain": [
              "True"
            ]
          },
          "metadata": {},
          "execution_count": 1
        }
      ],
      "source": [
        "import nltk\n",
        "from nltk.tokenize import sent_tokenize\n",
        "from nltk import pos_tag\n",
        "from nltk.corpus import stopwords\n",
        "nltk.download('stopwords')"
      ]
    },
    {
      "cell_type": "code",
      "source": [
        "text=\"\"\"Another thing binds us closely: your silences.\n",
        "Your silences are like mine. You are the only one before whom I am not ashamed of my silences.\n",
        "You have a vehement silence. Your silence feels, it is surcharged with essences, it is strangely alive, like a trap set upon an abyss.\n",
        "It is a creation of the earth itself. There is no fabricated poetry in what I tell you, you know it well.\n",
        "I want to express these powerful impressions, the real impressions I had. When we stood at the station and I lost you.\n",
        "We are like two lost souls in infinite space. I had felt this silence, this moving silence speaking to me and it made me want to weep with joy.\n",
        "You make me confront the best and the worst in myself, but before you I feel I do not need to be ashamed.\n",
        "You inhabit the same domain as I do but you can give me all that I lack, you are my complement.\n",
        "It is true that our imagination loves the same images, desires the same forms, the same creations, but physically you are warmth, whereas I am cold.\n",
        "You are supple, voluminous, fluid, whereas I am hard like flint, calcined, fossilized. A fatality which is beyond us had thrown us together.\n",
        "It was as if you were aware of it, you saw the resemblances, you felt the good we would do to each other.\"\"\""
      ],
      "metadata": {
        "id": "qV2Pc3PYxQKw"
      },
      "execution_count": 2,
      "outputs": []
    },
    {
      "cell_type": "code",
      "source": [
        "nltk.download('punkt_tab')"
      ],
      "metadata": {
        "colab": {
          "base_uri": "https://localhost:8080/"
        },
        "id": "Rz8Rj4AeZO3T",
        "outputId": "55a087b8-e9b6-4ca2-97a1-dab7413ba610"
      },
      "execution_count": 3,
      "outputs": [
        {
          "output_type": "stream",
          "name": "stderr",
          "text": [
            "[nltk_data] Downloading package punkt_tab to /root/nltk_data...\n",
            "[nltk_data]   Package punkt_tab is already up-to-date!\n"
          ]
        },
        {
          "output_type": "execute_result",
          "data": {
            "text/plain": [
              "True"
            ]
          },
          "metadata": {},
          "execution_count": 3
        }
      ]
    },
    {
      "cell_type": "code",
      "source": [
        "sentences=nltk.sent_tokenize(text)"
      ],
      "metadata": {
        "id": "KQPCj_YCz8go"
      },
      "execution_count": 4,
      "outputs": []
    },
    {
      "cell_type": "code",
      "source": [
        "sentences"
      ],
      "metadata": {
        "colab": {
          "base_uri": "https://localhost:8080/"
        },
        "id": "kSj9hnmmZMJi",
        "outputId": "fc0248d1-198a-497c-b8a5-e5fd0056b09c"
      },
      "execution_count": 5,
      "outputs": [
        {
          "output_type": "execute_result",
          "data": {
            "text/plain": [
              "['Another thing binds us closely: your silences.',\n",
              " 'Your silences are like mine.',\n",
              " 'You are the only one before whom I am not ashamed of my silences.',\n",
              " 'You have a vehement silence.',\n",
              " 'Your silence feels, it is surcharged with essences, it is strangely alive, like a trap set upon an abyss.',\n",
              " 'It is a creation of the earth itself.',\n",
              " 'There is no fabricated poetry in what I tell you, you know it well.',\n",
              " 'I want to express these powerful impressions, the real impressions I had.',\n",
              " 'When we stood at the station and I lost you.',\n",
              " 'We are like two lost souls in infinite space.',\n",
              " 'I had felt this silence, this moving silence speaking to me and it made me want to weep with joy.',\n",
              " 'You make me confront the best and the worst in myself, but before you I feel I do not need to be ashamed.',\n",
              " 'You inhabit the same domain as I do but you can give me all that I lack, you are my complement.',\n",
              " 'It is true that our imagination loves the same images, desires the same forms, the same creations, but physically you are warmth, whereas I am cold.',\n",
              " 'You are supple, voluminous, fluid, whereas I am hard like flint, calcined, fossilized.',\n",
              " 'A fatality which is beyond us had thrown us together.',\n",
              " 'It was as if you were aware of it, you saw the resemblances, you felt the good we would do to each other.']"
            ]
          },
          "metadata": {},
          "execution_count": 5
        }
      ]
    },
    {
      "cell_type": "code",
      "source": [
        "nltk.download('averaged_perceptron_tagger_eng')"
      ],
      "metadata": {
        "colab": {
          "base_uri": "https://localhost:8080/"
        },
        "id": "pVG3jtpgalt0",
        "outputId": "5a78d8a5-fd25-46e1-8981-3d18261d8edf"
      },
      "execution_count": 6,
      "outputs": [
        {
          "output_type": "stream",
          "name": "stderr",
          "text": [
            "[nltk_data] Downloading package averaged_perceptron_tagger_eng to\n",
            "[nltk_data]     /root/nltk_data...\n",
            "[nltk_data]   Package averaged_perceptron_tagger_eng is already up-to-\n",
            "[nltk_data]       date!\n"
          ]
        },
        {
          "output_type": "execute_result",
          "data": {
            "text/plain": [
              "True"
            ]
          },
          "metadata": {},
          "execution_count": 6
        }
      ]
    },
    {
      "cell_type": "code",
      "source": [
        "for i in range(len(sentences)):\n",
        "  words=nltk.word_tokenize(sentences[i])\n",
        "  words=[word for word in words if word not in set(stopwords.words('english'))]\n",
        "  pos_tag=nltk.pos_tag(words)\n",
        "  print(pos_tag)\n"
      ],
      "metadata": {
        "colab": {
          "base_uri": "https://localhost:8080/"
        },
        "id": "EnYownh8ZR7e",
        "outputId": "befba985-4c7d-4c2c-e04a-77c529a15fe3"
      },
      "execution_count": 7,
      "outputs": [
        {
          "output_type": "stream",
          "name": "stdout",
          "text": [
            "[('Another', 'DT'), ('thing', 'NN'), ('binds', 'VBZ'), ('us', 'PRP'), ('closely', 'RB'), (':', ':'), ('silences', 'NNS'), ('.', '.')]\n",
            "[('Your', 'PRP$'), ('silences', 'NNS'), ('like', 'IN'), ('mine', 'NN'), ('.', '.')]\n",
            "[('You', 'PRP'), ('one', 'CD'), ('I', 'PRP'), ('ashamed', 'VBD'), ('silences', 'NNS'), ('.', '.')]\n",
            "[('You', 'PRP'), ('vehement', 'JJ'), ('silence', 'NN'), ('.', '.')]\n",
            "[('Your', 'PRP$'), ('silence', 'NN'), ('feels', 'NNS'), (',', ','), ('surcharged', 'VBD'), ('essences', 'NNS'), (',', ','), ('strangely', 'RB'), ('alive', 'JJ'), (',', ','), ('like', 'IN'), ('trap', 'NN'), ('set', 'VBN'), ('upon', 'IN'), ('abyss', 'NN'), ('.', '.')]\n",
            "[('It', 'PRP'), ('creation', 'NN'), ('earth', 'NN'), ('.', '.')]\n",
            "[('There', 'EX'), ('fabricated', 'VBN'), ('poetry', 'NN'), ('I', 'PRP'), ('tell', 'VBP'), (',', ','), ('know', 'VBP'), ('well', 'RB'), ('.', '.')]\n",
            "[('I', 'PRP'), ('want', 'VBP'), ('express', 'JJ'), ('powerful', 'JJ'), ('impressions', 'NNS'), (',', ','), ('real', 'JJ'), ('impressions', 'NNS'), ('I', 'PRP'), ('.', '.')]\n",
            "[('When', 'WRB'), ('stood', 'NN'), ('station', 'NN'), ('I', 'PRP'), ('lost', 'VBD'), ('.', '.')]\n",
            "[('We', 'PRP'), ('like', 'VBP'), ('two', 'CD'), ('lost', 'VBN'), ('souls', 'NNS'), ('infinite', 'JJ'), ('space', 'NN'), ('.', '.')]\n",
            "[('I', 'PRP'), ('felt', 'VBD'), ('silence', 'NN'), (',', ','), ('moving', 'VBG'), ('silence', 'NN'), ('speaking', 'VBG'), ('made', 'VBN'), ('want', 'JJ'), ('weep', 'JJ'), ('joy', 'NN'), ('.', '.')]\n",
            "[('You', 'PRP'), ('make', 'VBP'), ('confront', 'JJ'), ('best', 'JJS'), ('worst', 'JJS'), (',', ','), ('I', 'PRP'), ('feel', 'VBP'), ('I', 'PRP'), ('need', 'VBP'), ('ashamed', 'VBN'), ('.', '.')]\n",
            "[('You', 'PRP'), ('inhabit', 'VBP'), ('domain', 'JJ'), ('I', 'PRP'), ('give', 'VBP'), ('I', 'PRP'), ('lack', 'VBP'), (',', ','), ('complement', 'NN'), ('.', '.')]\n",
            "[('It', 'PRP'), ('true', 'JJ'), ('imagination', 'NN'), ('loves', 'NNS'), ('images', 'NNS'), (',', ','), ('desires', 'NNS'), ('forms', 'NNS'), (',', ','), ('creations', 'NNS'), (',', ','), ('physically', 'RB'), ('warmth', 'JJ'), (',', ','), ('whereas', 'JJ'), ('I', 'PRP'), ('cold', 'VBP'), ('.', '.')]\n",
            "[('You', 'PRP'), ('supple', 'VBP'), (',', ','), ('voluminous', 'JJ'), (',', ','), ('fluid', 'NN'), (',', ','), ('whereas', 'IN'), ('I', 'PRP'), ('hard', 'VBP'), ('like', 'IN'), ('flint', 'NN'), (',', ','), ('calcined', 'VBN'), (',', ','), ('fossilized', 'VBN'), ('.', '.')]\n",
            "[('A', 'DT'), ('fatality', 'NN'), ('beyond', 'IN'), ('us', 'PRP'), ('thrown', 'VBP'), ('us', 'PRP'), ('together', 'RB'), ('.', '.')]\n",
            "[('It', 'PRP'), ('aware', 'JJ'), (',', ','), ('saw', 'VBD'), ('resemblances', 'NNS'), (',', ','), ('felt', 'VBD'), ('good', 'JJ'), ('would', 'MD'), ('.', '.')]\n"
          ]
        }
      ]
    },
    {
      "cell_type": "code",
      "source": [],
      "metadata": {
        "id": "0aNF0biDa0S5"
      },
      "execution_count": 7,
      "outputs": []
    }
  ]
}